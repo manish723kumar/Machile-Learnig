{
  "nbformat": 4,
  "nbformat_minor": 0,
  "metadata": {
    "colab": {
      "name": "Numpy.ipynb",
      "provenance": []
    },
    "kernelspec": {
      "name": "python3",
      "display_name": "Python 3"
    },
    "language_info": {
      "name": "python"
    }
  },
  "cells": [
    {
      "cell_type": "markdown",
      "source": [
        "**NumPy**:Numerical Python\n",
        "\n",
        "**Advantages of Numpy arrays**:\n",
        "\n",
        "1.   Allows several Mathematical Operations\n",
        "2.   Faster operations\n",
        "\n",
        "\n",
        "\n"
      ],
      "metadata": {
        "id": "dGGEMJZ79PtR"
      }
    },
    {
      "cell_type": "code",
      "execution_count": 1,
      "metadata": {
        "id": "dFkDSb7J8Em7"
      },
      "outputs": [],
      "source": [
        "import numpy as np"
      ]
    },
    {
      "cell_type": "markdown",
      "source": [
        "**List vs Numpy**:Time Taken"
      ],
      "metadata": {
        "id": "3F0YU2k_9OIX"
      }
    },
    {
      "cell_type": "code",
      "source": [
        "from time import process_time"
      ],
      "metadata": {
        "id": "hTml65DT-ex6"
      },
      "execution_count": 2,
      "outputs": []
    },
    {
      "cell_type": "markdown",
      "source": [
        "Time Taken by List"
      ],
      "metadata": {
        "id": "i9T6p3Mh-8cG"
      }
    },
    {
      "cell_type": "code",
      "source": [
        "Python_list=[i for i in range(10000)]\n",
        "start_time = process_time()\n",
        "Python_list = [i+5 for i in Python_list]\n",
        "end_time = process_time()\n",
        "print(end_time - start_time)"
      ],
      "metadata": {
        "colab": {
          "base_uri": "https://localhost:8080/"
        },
        "id": "oO18rEve-6_P",
        "outputId": "182390b5-415d-4fab-bc94-52e18eb7adb4"
      },
      "execution_count": 5,
      "outputs": [
        {
          "output_type": "stream",
          "name": "stdout",
          "text": [
            "0.0014631190000002903\n"
          ]
        }
      ]
    },
    {
      "cell_type": "markdown",
      "source": [
        "Numpy Array"
      ],
      "metadata": {
        "id": "D8LuSi56Btgv"
      }
    },
    {
      "cell_type": "code",
      "source": [
        "np_array = np.array([i for i in range(10000)])\n",
        "start_time = process_time()\n",
        "np_array += 5  \n",
        "end_time = process_time()\n",
        "print(end_time - start_time)"
      ],
      "metadata": {
        "colab": {
          "base_uri": "https://localhost:8080/"
        },
        "id": "csx5ucFT_N6K",
        "outputId": "29f426d8-a64c-4780-dea1-d50036b93beb"
      },
      "execution_count": 6,
      "outputs": [
        {
          "output_type": "stream",
          "name": "stdout",
          "text": [
            "0.0016200179999996678\n"
          ]
        }
      ]
    },
    {
      "cell_type": "markdown",
      "source": [
        "Numpy Array"
      ],
      "metadata": {
        "id": "t9R1g-34Cke-"
      }
    },
    {
      "cell_type": "code",
      "source": [
        "# list\n",
        "list1 = [1,2,3,4,5]\n",
        "print(list1)\n",
        "type(list1)"
      ],
      "metadata": {
        "colab": {
          "base_uri": "https://localhost:8080/"
        },
        "id": "zAZhJ2m2Bz_Z",
        "outputId": "aefe7949-a01a-4cd9-dc51-3d17a7c21c66"
      },
      "execution_count": 7,
      "outputs": [
        {
          "output_type": "stream",
          "name": "stdout",
          "text": [
            "[1, 2, 3, 4, 5]\n"
          ]
        },
        {
          "output_type": "execute_result",
          "data": {
            "text/plain": [
              "list"
            ]
          },
          "metadata": {},
          "execution_count": 7
        }
      ]
    },
    {
      "cell_type": "code",
      "source": [
        "np_array = np.array([1,2,3,4,5])\n",
        "print(np_array)\n",
        "type(np_array)"
      ],
      "metadata": {
        "colab": {
          "base_uri": "https://localhost:8080/"
        },
        "id": "hWAQbGzHCoOb",
        "outputId": "dc37b14a-2f41-4342-c0f1-459fd410216e"
      },
      "execution_count": 8,
      "outputs": [
        {
          "output_type": "stream",
          "name": "stdout",
          "text": [
            "[1 2 3 4 5]\n"
          ]
        },
        {
          "output_type": "execute_result",
          "data": {
            "text/plain": [
              "numpy.ndarray"
            ]
          },
          "metadata": {},
          "execution_count": 8
        }
      ]
    },
    {
      "cell_type": "code",
      "source": [
        "# creating a 1 dimension array\n",
        "a = np.array([1,2,3,4])\n",
        "print(a)"
      ],
      "metadata": {
        "colab": {
          "base_uri": "https://localhost:8080/"
        },
        "id": "3R0QUuCgCw7_",
        "outputId": "dcd027e5-8a5f-44a8-b4ab-d332af492ed5"
      },
      "execution_count": 9,
      "outputs": [
        {
          "output_type": "stream",
          "name": "stdout",
          "text": [
            "[1 2 3 4]\n"
          ]
        }
      ]
    },
    {
      "cell_type": "code",
      "source": [
        "a.shape"
      ],
      "metadata": {
        "colab": {
          "base_uri": "https://localhost:8080/"
        },
        "id": "M_VwsnkvDDHF",
        "outputId": "d460efd3-9174-4289-98f5-699ae63239ee"
      },
      "execution_count": 10,
      "outputs": [
        {
          "output_type": "execute_result",
          "data": {
            "text/plain": [
              "(4,)"
            ]
          },
          "metadata": {},
          "execution_count": 10
        }
      ]
    },
    {
      "cell_type": "code",
      "source": [
        "# creating 2 dimensional array\n",
        "b = np.array([(1,2,3,4),(5,6,7,8)])\n",
        "print(b)"
      ],
      "metadata": {
        "colab": {
          "base_uri": "https://localhost:8080/"
        },
        "id": "g95nRMedDL1t",
        "outputId": "8dbb5ca9-ab3c-4030-e24d-9503cc71c000"
      },
      "execution_count": 11,
      "outputs": [
        {
          "output_type": "stream",
          "name": "stdout",
          "text": [
            "[[1 2 3 4]\n",
            " [5 6 7 8]]\n"
          ]
        }
      ]
    },
    {
      "cell_type": "code",
      "source": [
        "b.shape"
      ],
      "metadata": {
        "colab": {
          "base_uri": "https://localhost:8080/"
        },
        "id": "X-dZ0pScDg2j",
        "outputId": "2940532e-b719-4482-80d5-89b95f7a8d5f"
      },
      "execution_count": 12,
      "outputs": [
        {
          "output_type": "execute_result",
          "data": {
            "text/plain": [
              "(2, 4)"
            ]
          },
          "metadata": {},
          "execution_count": 12
        }
      ]
    },
    {
      "cell_type": "code",
      "source": [
        "c = np.array([(1,2,3,4),(5,6,7,8)],dtype=float)\n",
        "print(c)"
      ],
      "metadata": {
        "colab": {
          "base_uri": "https://localhost:8080/"
        },
        "id": "9c5flhz4DrMy",
        "outputId": "44307259-9e7b-4944-b419-971247be2a1f"
      },
      "execution_count": 13,
      "outputs": [
        {
          "output_type": "stream",
          "name": "stdout",
          "text": [
            "[[1. 2. 3. 4.]\n",
            " [5. 6. 7. 8.]]\n"
          ]
        }
      ]
    },
    {
      "cell_type": "markdown",
      "source": [
        "Initial Placeholders in numpy arrays"
      ],
      "metadata": {
        "id": "fphfZwIWEj_O"
      }
    },
    {
      "cell_type": "code",
      "source": [
        "# create a numpy array of Zeros\n",
        "x = np.zeros((4,5))\n",
        "print(x)"
      ],
      "metadata": {
        "colab": {
          "base_uri": "https://localhost:8080/"
        },
        "id": "FVnmbXo_ECT3",
        "outputId": "b4cee061-d3b2-4f17-b8d5-c898b05ae3d8"
      },
      "execution_count": 15,
      "outputs": [
        {
          "output_type": "stream",
          "name": "stdout",
          "text": [
            "[[0. 0. 0. 0. 0.]\n",
            " [0. 0. 0. 0. 0.]\n",
            " [0. 0. 0. 0. 0.]\n",
            " [0. 0. 0. 0. 0.]]\n"
          ]
        }
      ]
    },
    {
      "cell_type": "code",
      "source": [
        "# create a numpy array of ones\n",
        "y = np.ones((3,3))\n",
        "print(y)"
      ],
      "metadata": {
        "colab": {
          "base_uri": "https://localhost:8080/"
        },
        "id": "9H5HUAmDEoCG",
        "outputId": "0fe9d6b6-6c5e-46f6-f3f6-f0bb2e7b3d5b"
      },
      "execution_count": 16,
      "outputs": [
        {
          "output_type": "stream",
          "name": "stdout",
          "text": [
            "[[1. 1. 1.]\n",
            " [1. 1. 1.]\n",
            " [1. 1. 1.]]\n"
          ]
        }
      ]
    },
    {
      "cell_type": "code",
      "source": [
        "# array of a particular value\n",
        "z = np.full((5,4),5)\n",
        "print(z)"
      ],
      "metadata": {
        "colab": {
          "base_uri": "https://localhost:8080/"
        },
        "id": "A4F-YRPlE6RJ",
        "outputId": "2d359f30-966b-4a19-cee2-3adc39b20cfb"
      },
      "execution_count": 17,
      "outputs": [
        {
          "output_type": "stream",
          "name": "stdout",
          "text": [
            "[[5 5 5 5]\n",
            " [5 5 5 5]\n",
            " [5 5 5 5]\n",
            " [5 5 5 5]\n",
            " [5 5 5 5]]\n"
          ]
        }
      ]
    },
    {
      "cell_type": "code",
      "source": [
        "# create an identity matrix\n",
        "a = np.eye(5)\n",
        "print(a)"
      ],
      "metadata": {
        "colab": {
          "base_uri": "https://localhost:8080/"
        },
        "id": "Wlinn5zlFJou",
        "outputId": "47744451-ece6-484a-fe48-a620a592a3ff"
      },
      "execution_count": 18,
      "outputs": [
        {
          "output_type": "stream",
          "name": "stdout",
          "text": [
            "[[1. 0. 0. 0. 0.]\n",
            " [0. 1. 0. 0. 0.]\n",
            " [0. 0. 1. 0. 0.]\n",
            " [0. 0. 0. 1. 0.]\n",
            " [0. 0. 0. 0. 1.]]\n"
          ]
        }
      ]
    },
    {
      "cell_type": "code",
      "source": [
        "# create a numpy array with random values\n",
        "b = np.random.random((3,4))\n",
        "print(b)"
      ],
      "metadata": {
        "colab": {
          "base_uri": "https://localhost:8080/"
        },
        "id": "OwUZg-5GFXXc",
        "outputId": "1bc920f8-6a3b-476e-82dd-96a31a4b3dd5"
      },
      "execution_count": 19,
      "outputs": [
        {
          "output_type": "stream",
          "name": "stdout",
          "text": [
            "[[0.61814886 0.54394367 0.86959731 0.90554753]\n",
            " [0.77940044 0.31869895 0.08898243 0.56247712]\n",
            " [0.70561139 0.03498048 0.87794402 0.35555028]]\n"
          ]
        }
      ]
    },
    {
      "cell_type": "code",
      "source": [
        "# random integer values array within a specific range\n",
        "c = np.random.randint(10,100,(3,5))\n",
        "print(c)"
      ],
      "metadata": {
        "colab": {
          "base_uri": "https://localhost:8080/"
        },
        "id": "o9ghm3_NMOLg",
        "outputId": "6e4866a3-047e-495c-ca38-d79de26a67e5"
      },
      "execution_count": 20,
      "outputs": [
        {
          "output_type": "stream",
          "name": "stdout",
          "text": [
            "[[23 27 76 19 95]\n",
            " [56 40 12 15 65]\n",
            " [24 36 23 58 23]]\n"
          ]
        }
      ]
    },
    {
      "cell_type": "code",
      "source": [
        "# array of evenly spaced values --> specifying the number of values required\n",
        "d = np.linspace(10,30,5)\n",
        "print(d)"
      ],
      "metadata": {
        "colab": {
          "base_uri": "https://localhost:8080/"
        },
        "id": "7zjUTqfiM9uB",
        "outputId": "09091188-68e1-4506-9997-3f43b0fa11e7"
      },
      "execution_count": 21,
      "outputs": [
        {
          "output_type": "stream",
          "name": "stdout",
          "text": [
            "[10. 15. 20. 25. 30.]\n"
          ]
        }
      ]
    },
    {
      "cell_type": "code",
      "source": [
        "# array of evenly spaced values --> specifying the step\n",
        "e = np.arange(10,30,5)\n",
        "print(e)"
      ],
      "metadata": {
        "colab": {
          "base_uri": "https://localhost:8080/"
        },
        "id": "nWza8ftINrBn",
        "outputId": "3b313c6f-9a46-4bd1-869c-3128b61abb98"
      },
      "execution_count": 22,
      "outputs": [
        {
          "output_type": "stream",
          "name": "stdout",
          "text": [
            "[10 15 20 25]\n"
          ]
        }
      ]
    },
    {
      "cell_type": "code",
      "source": [
        "# convert a list to a numpy array\n",
        "list2 = [10,20,20,20,50]\n",
        "np_array = np.asarray(list2)\n",
        "print(np_array)\n",
        "type(np_array)"
      ],
      "metadata": {
        "colab": {
          "base_uri": "https://localhost:8080/"
        },
        "id": "pJO3YzgFN906",
        "outputId": "82a01b8e-2da0-4293-d314-d99de1e1e9f0"
      },
      "execution_count": 23,
      "outputs": [
        {
          "output_type": "stream",
          "name": "stdout",
          "text": [
            "[10 20 20 20 50]\n"
          ]
        },
        {
          "output_type": "execute_result",
          "data": {
            "text/plain": [
              "numpy.ndarray"
            ]
          },
          "metadata": {},
          "execution_count": 23
        }
      ]
    },
    {
      "cell_type": "markdown",
      "source": [
        "Analysing a numpy array"
      ],
      "metadata": {
        "id": "Uhy_nYS3Opv1"
      }
    },
    {
      "cell_type": "code",
      "source": [
        "c = np.random.randint(10,90,(5,5))\n",
        "print(c)"
      ],
      "metadata": {
        "colab": {
          "base_uri": "https://localhost:8080/"
        },
        "id": "0ykO29f7Oda2",
        "outputId": "a1c8d129-aaa0-4a4e-8f90-cb938a500520"
      },
      "execution_count": 24,
      "outputs": [
        {
          "output_type": "stream",
          "name": "stdout",
          "text": [
            "[[24 29 64 36 12]\n",
            " [53 35 67 23 71]\n",
            " [12 58 37 56 42]\n",
            " [57 18 21 43 36]\n",
            " [21 40 76 56 40]]\n"
          ]
        }
      ]
    },
    {
      "cell_type": "code",
      "source": [
        "# array dimension\n",
        "print(c.shape)"
      ],
      "metadata": {
        "colab": {
          "base_uri": "https://localhost:8080/"
        },
        "id": "ELX_hsK3PDJr",
        "outputId": "a25164b1-39ac-42c9-c024-b93ee6800b3e"
      },
      "execution_count": 25,
      "outputs": [
        {
          "output_type": "stream",
          "name": "stdout",
          "text": [
            "(5, 5)\n"
          ]
        }
      ]
    },
    {
      "cell_type": "code",
      "source": [
        "# number of dimensions\n",
        "print(c.ndim)"
      ],
      "metadata": {
        "colab": {
          "base_uri": "https://localhost:8080/"
        },
        "id": "k7qnSPioPIxI",
        "outputId": "2b8ae5b9-df20-4583-b5a1-f064cc5d047c"
      },
      "execution_count": 26,
      "outputs": [
        {
          "output_type": "stream",
          "name": "stdout",
          "text": [
            "2\n"
          ]
        }
      ]
    },
    {
      "cell_type": "code",
      "source": [
        "# number of elements in an array\n",
        "print(c.size)"
      ],
      "metadata": {
        "colab": {
          "base_uri": "https://localhost:8080/"
        },
        "id": "pa_rYsbZPMIr",
        "outputId": "616dea57-49a4-4038-de5f-56f3775f6484"
      },
      "execution_count": 27,
      "outputs": [
        {
          "output_type": "stream",
          "name": "stdout",
          "text": [
            "25\n"
          ]
        }
      ]
    },
    {
      "cell_type": "code",
      "source": [
        "# checking the data type of the values in the array\n",
        "print(c.dtype)"
      ],
      "metadata": {
        "colab": {
          "base_uri": "https://localhost:8080/"
        },
        "id": "K5yKnmmTPRa7",
        "outputId": "0143be35-daae-4a66-9281-b2e03728bec3"
      },
      "execution_count": 28,
      "outputs": [
        {
          "output_type": "stream",
          "name": "stdout",
          "text": [
            "int64\n"
          ]
        }
      ]
    },
    {
      "cell_type": "markdown",
      "source": [
        "Mathematical operations on a np array"
      ],
      "metadata": {
        "id": "hkMdLOkWPgcn"
      }
    },
    {
      "cell_type": "code",
      "source": [
        "list1 = [1,2,3,4,5]\n",
        "list2 = [6,7,8,9,10]\n",
        "\n",
        "print(list1 + list2)    # concatenate or joins two list"
      ],
      "metadata": {
        "colab": {
          "base_uri": "https://localhost:8080/"
        },
        "id": "_Ytjn246PZS5",
        "outputId": "25eeb7fd-ea1a-4b7d-d3d0-5b8547f28d90"
      },
      "execution_count": 29,
      "outputs": [
        {
          "output_type": "stream",
          "name": "stdout",
          "text": [
            "[1, 2, 3, 4, 5, 6, 7, 8, 9, 10]\n"
          ]
        }
      ]
    },
    {
      "cell_type": "code",
      "source": [
        "a = np.random.randint(0,10,(3,3))\n",
        "b = np.random.randint(10,20,(3,3))\n",
        "print(a)\n",
        "print(b)"
      ],
      "metadata": {
        "colab": {
          "base_uri": "https://localhost:8080/"
        },
        "id": "0fSaSGByP7Ya",
        "outputId": "f3612c87-310c-4176-e60c-3c2b7b0c2d18"
      },
      "execution_count": 30,
      "outputs": [
        {
          "output_type": "stream",
          "name": "stdout",
          "text": [
            "[[1 2 6]\n",
            " [9 0 1]\n",
            " [8 0 1]]\n",
            "[[19 12 19]\n",
            " [12 11 12]\n",
            " [14 15 16]]\n"
          ]
        }
      ]
    },
    {
      "cell_type": "code",
      "source": [
        "print(a+b)\n",
        "print(a-b)\n",
        "print(a*b)\n",
        "print(a/b)"
      ],
      "metadata": {
        "colab": {
          "base_uri": "https://localhost:8080/"
        },
        "id": "Wi_JF4ehQJ06",
        "outputId": "dd93ff33-a04d-4a1f-d39a-eff9fe98ca7f"
      },
      "execution_count": 31,
      "outputs": [
        {
          "output_type": "stream",
          "name": "stdout",
          "text": [
            "[[20 14 25]\n",
            " [21 11 13]\n",
            " [22 15 17]]\n",
            "[[-18 -10 -13]\n",
            " [ -3 -11 -11]\n",
            " [ -6 -15 -15]]\n",
            "[[ 19  24 114]\n",
            " [108   0  12]\n",
            " [112   0  16]]\n",
            "[[0.05263158 0.16666667 0.31578947]\n",
            " [0.75       0.         0.08333333]\n",
            " [0.57142857 0.         0.0625    ]]\n"
          ]
        }
      ]
    },
    {
      "cell_type": "code",
      "source": [
        "a = np.random.randint(0,10,(3,3))\n",
        "b = np.random.randint(10,20,(3,3))\n",
        "print(a)\n",
        "print(b)"
      ],
      "metadata": {
        "colab": {
          "base_uri": "https://localhost:8080/"
        },
        "id": "NOaF0-BoQdDw",
        "outputId": "3f21de73-398b-44eb-902b-3955720e4656"
      },
      "execution_count": 32,
      "outputs": [
        {
          "output_type": "stream",
          "name": "stdout",
          "text": [
            "[[8 1 8]\n",
            " [1 1 5]\n",
            " [3 5 5]]\n",
            "[[15 11 18]\n",
            " [14 19 12]\n",
            " [18 10 10]]\n"
          ]
        }
      ]
    },
    {
      "cell_type": "code",
      "source": [
        "print(np.add(a,b))\n",
        "print(np.subtract(a,b))\n",
        "print(np.multiply(a,b))\n",
        "print(np.divide(a,b))"
      ],
      "metadata": {
        "colab": {
          "base_uri": "https://localhost:8080/"
        },
        "id": "YUlmcaypQ2dO",
        "outputId": "ce81d49a-c583-4474-964f-14278006b853"
      },
      "execution_count": 33,
      "outputs": [
        {
          "output_type": "stream",
          "name": "stdout",
          "text": [
            "[[23 12 26]\n",
            " [15 20 17]\n",
            " [21 15 15]]\n",
            "[[ -7 -10 -10]\n",
            " [-13 -18  -7]\n",
            " [-15  -5  -5]]\n",
            "[[120  11 144]\n",
            " [ 14  19  60]\n",
            " [ 54  50  50]]\n",
            "[[0.53333333 0.09090909 0.44444444]\n",
            " [0.07142857 0.05263158 0.41666667]\n",
            " [0.16666667 0.5        0.5       ]]\n"
          ]
        }
      ]
    },
    {
      "cell_type": "markdown",
      "source": [
        "Array Manipulation"
      ],
      "metadata": {
        "id": "KuGgOOhQRA0d"
      }
    },
    {
      "cell_type": "code",
      "source": [
        "array = np.random.randint(0,10,(2,3))\n",
        "print(array)\n",
        "print(array.shape)"
      ],
      "metadata": {
        "colab": {
          "base_uri": "https://localhost:8080/"
        },
        "id": "e_Rl4Tv6Q4eS",
        "outputId": "d3614cf9-03dd-4298-81be-d245b9274cab"
      },
      "execution_count": 34,
      "outputs": [
        {
          "output_type": "stream",
          "name": "stdout",
          "text": [
            "[[2 0 5]\n",
            " [2 0 3]]\n",
            "(2, 3)\n"
          ]
        }
      ]
    },
    {
      "cell_type": "code",
      "source": [
        "# transpose\n",
        "trans = np.transpose(array)\n",
        "print(trans)\n",
        "print(trans.shape)"
      ],
      "metadata": {
        "colab": {
          "base_uri": "https://localhost:8080/"
        },
        "id": "RO5PracxRHC6",
        "outputId": "449a3871-8bb0-4158-ffd9-3b6911654fe8"
      },
      "execution_count": 35,
      "outputs": [
        {
          "output_type": "stream",
          "name": "stdout",
          "text": [
            "[[2 2]\n",
            " [0 0]\n",
            " [5 3]]\n",
            "(3, 2)\n"
          ]
        }
      ]
    },
    {
      "cell_type": "code",
      "source": [
        "array = np.random.randint(0,10,(2,3))\n",
        "print(array)\n",
        "print(array.shape)"
      ],
      "metadata": {
        "colab": {
          "base_uri": "https://localhost:8080/"
        },
        "id": "flCYa-GrRM28",
        "outputId": "42c3094a-97ba-4eaa-afdb-2da96bc1a13e"
      },
      "execution_count": 36,
      "outputs": [
        {
          "output_type": "stream",
          "name": "stdout",
          "text": [
            "[[5 4 3]\n",
            " [3 3 1]]\n",
            "(2, 3)\n"
          ]
        }
      ]
    },
    {
      "cell_type": "code",
      "source": [
        "trans2 = array.T\n",
        "print(trans2)\n",
        "print(trans2.shape)"
      ],
      "metadata": {
        "colab": {
          "base_uri": "https://localhost:8080/"
        },
        "id": "eMlCRjpyRacG",
        "outputId": "031d7a92-4b3e-413b-f62e-78732c1dae74"
      },
      "execution_count": 37,
      "outputs": [
        {
          "output_type": "stream",
          "name": "stdout",
          "text": [
            "[[5 3]\n",
            " [4 3]\n",
            " [3 1]]\n",
            "(3, 2)\n"
          ]
        }
      ]
    },
    {
      "cell_type": "code",
      "source": [
        "# reshaping a array\n",
        "a = np.random.randint(0,10,(2,3))\n",
        "print(a)\n",
        "print(a.shape)"
      ],
      "metadata": {
        "colab": {
          "base_uri": "https://localhost:8080/"
        },
        "id": "K0_Wt56kRf24",
        "outputId": "ddab825b-05d2-45ab-beee-0ea01a72513a"
      },
      "execution_count": 38,
      "outputs": [
        {
          "output_type": "stream",
          "name": "stdout",
          "text": [
            "[[4 7 5]\n",
            " [6 2 3]]\n",
            "(2, 3)\n"
          ]
        }
      ]
    },
    {
      "cell_type": "code",
      "source": [
        "b = a.reshape(3,2)\n",
        "print(b)\n",
        "print(b.shape)"
      ],
      "metadata": {
        "colab": {
          "base_uri": "https://localhost:8080/"
        },
        "id": "jsFHUzO9RmFH",
        "outputId": "442eb81c-8280-4c70-8552-1db12b050895"
      },
      "execution_count": 39,
      "outputs": [
        {
          "output_type": "stream",
          "name": "stdout",
          "text": [
            "[[4 7]\n",
            " [5 6]\n",
            " [2 3]]\n",
            "(3, 2)\n"
          ]
        }
      ]
    },
    {
      "cell_type": "code",
      "source": [
        ""
      ],
      "metadata": {
        "id": "eDH3Wr8hRqel"
      },
      "execution_count": null,
      "outputs": []
    }
  ]
}